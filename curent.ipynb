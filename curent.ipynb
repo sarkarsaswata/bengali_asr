{
 "cells": [
  {
   "cell_type": "code",
   "execution_count": 1,
   "metadata": {},
   "outputs": [],
   "source": [
    "# Import necessary libraries\n",
    "import os\n",
    "import numpy as np\n",
    "import pandas as pd\n",
    "import librosa\n",
    "import jiwer\n",
    "import torch\n",
    "import gc\n",
    "import torchaudio\n",
    "import torchaudio.transforms as tat\n",
    "\n",
    "from IPython.display import display\n",
    "from dataclasses import dataclass, field\n",
    "from tqdm.notebook import tqdm\n",
    "from bnunicodenormalizer import Normalizer\n",
    "from torch.utils.data import Dataset, DataLoader\n",
    "from typing import Any, Dict, List, Optional, Union\n",
    "import wandb\n",
    "\n",
    "# Import Hugging Face Transformers related modules\n",
    "from transformers import (\n",
    "    Wav2Vec2CTCTokenizer,\n",
    "    Wav2Vec2ForCTC,\n",
    "    Wav2Vec2Processor,\n",
    "    TrainingArguments,\n",
    "    Trainer,\n",
    "    EarlyStoppingCallback\n",
    ")\n",
    "\n",
    "from transformers.integrations import WandbCallback\n",
    "# Additional libraries\n",
    "import cloudpickle as cpkl\n",
    "\n",
    "import warnings\n",
    "\n",
    "# Suppress DeprecationWarnings\n",
    "warnings.filterwarnings(\"ignore\")"
   ]
  },
  {
   "cell_type": "code",
   "execution_count": 2,
   "metadata": {},
   "outputs": [
    {
     "data": {
      "text/plain": [
       "'cuda'"
      ]
     },
     "execution_count": 2,
     "metadata": {},
     "output_type": "execute_result"
    }
   ],
   "source": [
    "device = 'cuda' if torch.cuda.is_available() else 'cpu'\n",
    "device"
   ]
  },
  {
   "cell_type": "code",
   "execution_count": 3,
   "metadata": {},
   "outputs": [],
   "source": [
    "ORIG_SAMPLE_RATE = 32000\n",
    "SAMPLE_RATE = 16000\n",
    "torch.backends.cudnn.benchmark = True\n",
    "OUTPUT_DIR = './'\n",
    "MODEL_PATH = \"ai4bharat/indicwav2vec_v1_bengali\""
   ]
  },
  {
   "cell_type": "code",
   "execution_count": 4,
   "metadata": {},
   "outputs": [],
   "source": [
    "processor = Wav2Vec2Processor.from_pretrained(MODEL_PATH)\n",
    "# tokenizer = Wav2Vec2CTCTokenizer.from_pretrained(MODEL_PATH)\n",
    "model = Wav2Vec2ForCTC.from_pretrained(MODEL_PATH)\n",
    "vocab_dict = processor.tokenizer.get_vocab()\n",
    "sorted_vocab_dict = {k: v for k, v in sorted(vocab_dict.items(), key=lambda item: item[1])}"
   ]
  },
  {
   "cell_type": "code",
   "execution_count": 5,
   "metadata": {},
   "outputs": [
    {
     "name": "stdout",
     "output_type": "stream",
     "text": [
      "963636\n"
     ]
    }
   ],
   "source": [
    "df = pd.read_csv(\"/home/moonlab/datasets/bengali/train.csv\")\n",
    "print(len(df))"
   ]
  },
  {
   "cell_type": "code",
   "execution_count": 6,
   "metadata": {},
   "outputs": [
    {
     "data": {
      "text/html": [
       "<div>\n",
       "<style scoped>\n",
       "    .dataframe tbody tr th:only-of-type {\n",
       "        vertical-align: middle;\n",
       "    }\n",
       "\n",
       "    .dataframe tbody tr th {\n",
       "        vertical-align: top;\n",
       "    }\n",
       "\n",
       "    .dataframe thead th {\n",
       "        text-align: right;\n",
       "    }\n",
       "</style>\n",
       "<table border=\"1\" class=\"dataframe\">\n",
       "  <thead>\n",
       "    <tr style=\"text-align: right;\">\n",
       "      <th></th>\n",
       "      <th>id</th>\n",
       "      <th>sentence</th>\n",
       "      <th>split</th>\n",
       "    </tr>\n",
       "  </thead>\n",
       "  <tbody>\n",
       "    <tr>\n",
       "      <th>0</th>\n",
       "      <td>000005f3362c</td>\n",
       "      <td>ও বলেছে আপনার ঠিকানা!</td>\n",
       "      <td>train</td>\n",
       "    </tr>\n",
       "    <tr>\n",
       "      <th>1</th>\n",
       "      <td>00001dddd002</td>\n",
       "      <td>কোন মহান রাষ্ট্রের নাগরিক হতে চাও?</td>\n",
       "      <td>train</td>\n",
       "    </tr>\n",
       "    <tr>\n",
       "      <th>2</th>\n",
       "      <td>00001e0bc131</td>\n",
       "      <td>আমি তোমার কষ্টটা বুঝছি, কিন্তু এটা সঠিক পথ না।</td>\n",
       "      <td>train</td>\n",
       "    </tr>\n",
       "    <tr>\n",
       "      <th>3</th>\n",
       "      <td>000024b3d810</td>\n",
       "      <td>নাচ শেষ হওয়ার পর সকলে শরীর ধুয়ে একসঙ্গে ভোজন...</td>\n",
       "      <td>train</td>\n",
       "    </tr>\n",
       "    <tr>\n",
       "      <th>4</th>\n",
       "      <td>000028220ab3</td>\n",
       "      <td>হুমম, ওহ হেই, দেখো।</td>\n",
       "      <td>train</td>\n",
       "    </tr>\n",
       "  </tbody>\n",
       "</table>\n",
       "</div>"
      ],
      "text/plain": [
       "             id                                           sentence  split\n",
       "0  000005f3362c                              ও বলেছে আপনার ঠিকানা!  train\n",
       "1  00001dddd002                 কোন মহান রাষ্ট্রের নাগরিক হতে চাও?  train\n",
       "2  00001e0bc131     আমি তোমার কষ্টটা বুঝছি, কিন্তু এটা সঠিক পথ না।  train\n",
       "3  000024b3d810  নাচ শেষ হওয়ার পর সকলে শরীর ধুয়ে একসঙ্গে ভোজন...  train\n",
       "4  000028220ab3                                হুমম, ওহ হেই, দেখো।  train"
      ]
     },
     "execution_count": 6,
     "metadata": {},
     "output_type": "execute_result"
    }
   ],
   "source": [
    "df.head()"
   ]
  },
  {
   "cell_type": "code",
   "execution_count": 7,
   "metadata": {},
   "outputs": [
    {
     "name": "stdout",
     "output_type": "stream",
     "text": [
      "The unique values of 'df[split]' are :\n"
     ]
    },
    {
     "data": {
      "text/plain": [
       "array(['train', 'valid'], dtype=object)"
      ]
     },
     "metadata": {},
     "output_type": "display_data"
    },
    {
     "name": "stdout",
     "output_type": "stream",
     "text": [
      "*-*-*-*-*-*-*-*-*-*-*-*-*-*-*-*-*-*-*-*-*-*-*-*-*-*-*-*-*-*-*-*-*-*-*-*-*-*-*-*-*-*-*-*-*-*-*-*-*-*-\n",
      "The *train* data is the following:\n"
     ]
    },
    {
     "data": {
      "text/html": [
       "<div>\n",
       "<style scoped>\n",
       "    .dataframe tbody tr th:only-of-type {\n",
       "        vertical-align: middle;\n",
       "    }\n",
       "\n",
       "    .dataframe tbody tr th {\n",
       "        vertical-align: top;\n",
       "    }\n",
       "\n",
       "    .dataframe thead th {\n",
       "        text-align: right;\n",
       "    }\n",
       "</style>\n",
       "<table border=\"1\" class=\"dataframe\">\n",
       "  <thead>\n",
       "    <tr style=\"text-align: right;\">\n",
       "      <th></th>\n",
       "      <th>id</th>\n",
       "      <th>sentence</th>\n",
       "      <th>split</th>\n",
       "    </tr>\n",
       "  </thead>\n",
       "  <tbody>\n",
       "    <tr>\n",
       "      <th>0</th>\n",
       "      <td>000005f3362c</td>\n",
       "      <td>ও বলেছে আপনার ঠিকানা!</td>\n",
       "      <td>train</td>\n",
       "    </tr>\n",
       "    <tr>\n",
       "      <th>1</th>\n",
       "      <td>00001dddd002</td>\n",
       "      <td>কোন মহান রাষ্ট্রের নাগরিক হতে চাও?</td>\n",
       "      <td>train</td>\n",
       "    </tr>\n",
       "    <tr>\n",
       "      <th>2</th>\n",
       "      <td>00001e0bc131</td>\n",
       "      <td>আমি তোমার কষ্টটা বুঝছি, কিন্তু এটা সঠিক পথ না।</td>\n",
       "      <td>train</td>\n",
       "    </tr>\n",
       "    <tr>\n",
       "      <th>3</th>\n",
       "      <td>000024b3d810</td>\n",
       "      <td>নাচ শেষ হওয়ার পর সকলে শরীর ধুয়ে একসঙ্গে ভোজন...</td>\n",
       "      <td>train</td>\n",
       "    </tr>\n",
       "    <tr>\n",
       "      <th>4</th>\n",
       "      <td>000028220ab3</td>\n",
       "      <td>হুমম, ওহ হেই, দেখো।</td>\n",
       "      <td>train</td>\n",
       "    </tr>\n",
       "    <tr>\n",
       "      <th>...</th>\n",
       "      <td>...</td>\n",
       "      <td>...</td>\n",
       "      <td>...</td>\n",
       "    </tr>\n",
       "    <tr>\n",
       "      <th>963631</th>\n",
       "      <td>ffffd07108b7</td>\n",
       "      <td>আপনার সাথে কথা বলতে চাই।</td>\n",
       "      <td>train</td>\n",
       "    </tr>\n",
       "    <tr>\n",
       "      <th>963632</th>\n",
       "      <td>ffffde37678a</td>\n",
       "      <td>সুতরাং পরের দিন আর-একটা ছবি না লইয়া চিত্রকর ছা...</td>\n",
       "      <td>train</td>\n",
       "    </tr>\n",
       "    <tr>\n",
       "      <th>963633</th>\n",
       "      <td>ffffe1b5f095</td>\n",
       "      <td>সামাজিক কর্মকাণ্ডসমিতিতে গিয়ে দেখা যায়, শিল্পী...</td>\n",
       "      <td>train</td>\n",
       "    </tr>\n",
       "    <tr>\n",
       "      <th>963634</th>\n",
       "      <td>ffffec31636e</td>\n",
       "      <td>গুগল ম্যাপসের সাহায্যে খুঁজে পাওয়া যাবে কোন জা...</td>\n",
       "      <td>train</td>\n",
       "    </tr>\n",
       "    <tr>\n",
       "      <th>963635</th>\n",
       "      <td>fffff9f38566</td>\n",
       "      <td>তোমরা আমাকে কী নাম ধরে ডাকবে?</td>\n",
       "      <td>train</td>\n",
       "    </tr>\n",
       "  </tbody>\n",
       "</table>\n",
       "<p>934048 rows × 3 columns</p>\n",
       "</div>"
      ],
      "text/plain": [
       "                  id                                           sentence  split\n",
       "0       000005f3362c                              ও বলেছে আপনার ঠিকানা!  train\n",
       "1       00001dddd002                 কোন মহান রাষ্ট্রের নাগরিক হতে চাও?  train\n",
       "2       00001e0bc131     আমি তোমার কষ্টটা বুঝছি, কিন্তু এটা সঠিক পথ না।  train\n",
       "3       000024b3d810  নাচ শেষ হওয়ার পর সকলে শরীর ধুয়ে একসঙ্গে ভোজন...  train\n",
       "4       000028220ab3                                হুমম, ওহ হেই, দেখো।  train\n",
       "...              ...                                                ...    ...\n",
       "963631  ffffd07108b7                           আপনার সাথে কথা বলতে চাই।  train\n",
       "963632  ffffde37678a  সুতরাং পরের দিন আর-একটা ছবি না লইয়া চিত্রকর ছা...  train\n",
       "963633  ffffe1b5f095  সামাজিক কর্মকাণ্ডসমিতিতে গিয়ে দেখা যায়, শিল্পী...  train\n",
       "963634  ffffec31636e  গুগল ম্যাপসের সাহায্যে খুঁজে পাওয়া যাবে কোন জা...  train\n",
       "963635  fffff9f38566                      তোমরা আমাকে কী নাম ধরে ডাকবে?  train\n",
       "\n",
       "[934048 rows x 3 columns]"
      ]
     },
     "metadata": {},
     "output_type": "display_data"
    },
    {
     "name": "stdout",
     "output_type": "stream",
     "text": [
      "The len of train data is 934048\n",
      "*-*-*-*-*-*-*-*-*-*-*-*-*-*-*-*-*-*-*-*-*-*-*-*-*-*-*-*-*-*-*-*-*-*-*-*-*-*-*-*-*-*-*-*-*-*-*-*-*-*-\n",
      "The *valid* data is the following:\n"
     ]
    },
    {
     "data": {
      "text/html": [
       "<div>\n",
       "<style scoped>\n",
       "    .dataframe tbody tr th:only-of-type {\n",
       "        vertical-align: middle;\n",
       "    }\n",
       "\n",
       "    .dataframe tbody tr th {\n",
       "        vertical-align: top;\n",
       "    }\n",
       "\n",
       "    .dataframe thead th {\n",
       "        text-align: right;\n",
       "    }\n",
       "</style>\n",
       "<table border=\"1\" class=\"dataframe\">\n",
       "  <thead>\n",
       "    <tr style=\"text-align: right;\">\n",
       "      <th></th>\n",
       "      <th>id</th>\n",
       "      <th>sentence</th>\n",
       "      <th>split</th>\n",
       "    </tr>\n",
       "  </thead>\n",
       "  <tbody>\n",
       "    <tr>\n",
       "      <th>20</th>\n",
       "      <td>0000e711c2b1</td>\n",
       "      <td>তিনি এবং তাঁর মা তাদের পৈতৃক বাড়িতে থেকে প্রত...</td>\n",
       "      <td>valid</td>\n",
       "    </tr>\n",
       "    <tr>\n",
       "      <th>59</th>\n",
       "      <td>00036c2a2d9d</td>\n",
       "      <td>কৃত্তিবাস রামায়ণ-বহির্ভূত অনেক গল্প এই অনুবাদ...</td>\n",
       "      <td>valid</td>\n",
       "    </tr>\n",
       "    <tr>\n",
       "      <th>100</th>\n",
       "      <td>00065e317123</td>\n",
       "      <td>তিনি তার সুশৃঙ্খল সামরিক বাহিনী এবং সুগঠিত শাস...</td>\n",
       "      <td>valid</td>\n",
       "    </tr>\n",
       "    <tr>\n",
       "      <th>101</th>\n",
       "      <td>00065f40df52</td>\n",
       "      <td>তিনি বিজয়নগর সাম্রাজ্যের বিরুদ্ধে এবং বিজাপুর...</td>\n",
       "      <td>valid</td>\n",
       "    </tr>\n",
       "    <tr>\n",
       "      <th>146</th>\n",
       "      <td>0009b022c8ea</td>\n",
       "      <td>এটি মূলত একটি মরুময় অঞ্চল।</td>\n",
       "      <td>valid</td>\n",
       "    </tr>\n",
       "    <tr>\n",
       "      <th>...</th>\n",
       "      <td>...</td>\n",
       "      <td>...</td>\n",
       "      <td>...</td>\n",
       "    </tr>\n",
       "    <tr>\n",
       "      <th>963545</th>\n",
       "      <td>fffa8ced44f1</td>\n",
       "      <td>এই কাজের জন্য বিশেষ পারদর্শিতা থাকা শিল্পী থাকে।</td>\n",
       "      <td>valid</td>\n",
       "    </tr>\n",
       "    <tr>\n",
       "      <th>963586</th>\n",
       "      <td>fffd69cdd76c</td>\n",
       "      <td>আবদুল লতিফ আঞ্জুমানের সঙ্গে প্রত্যক্ষভাবে জড়ি...</td>\n",
       "      <td>valid</td>\n",
       "    </tr>\n",
       "    <tr>\n",
       "      <th>963589</th>\n",
       "      <td>fffd9ff269bc</td>\n",
       "      <td>পত্রের বিষয়বস্তু হলো \"যান্ত্রিক গণনার মডুলেশন...</td>\n",
       "      <td>valid</td>\n",
       "    </tr>\n",
       "    <tr>\n",
       "      <th>963593</th>\n",
       "      <td>fffdb13febaf</td>\n",
       "      <td>তবে, ব্যান্ডটির অফিসিয়াল ফেসবুক পাতায়, তাকে ...</td>\n",
       "      <td>valid</td>\n",
       "    </tr>\n",
       "    <tr>\n",
       "      <th>963599</th>\n",
       "      <td>fffdddf07b4b</td>\n",
       "      <td>চাঁদপুর জেলার উন্নয়নে তার ব্যাপক অবদান রয়েছে।</td>\n",
       "      <td>valid</td>\n",
       "    </tr>\n",
       "  </tbody>\n",
       "</table>\n",
       "<p>29588 rows × 3 columns</p>\n",
       "</div>"
      ],
      "text/plain": [
       "                  id                                           sentence  split\n",
       "20      0000e711c2b1  তিনি এবং তাঁর মা তাদের পৈতৃক বাড়িতে থেকে প্রত...  valid\n",
       "59      00036c2a2d9d  কৃত্তিবাস রামায়ণ-বহির্ভূত অনেক গল্প এই অনুবাদ...  valid\n",
       "100     00065e317123  তিনি তার সুশৃঙ্খল সামরিক বাহিনী এবং সুগঠিত শাস...  valid\n",
       "101     00065f40df52  তিনি বিজয়নগর সাম্রাজ্যের বিরুদ্ধে এবং বিজাপুর...  valid\n",
       "146     0009b022c8ea                        এটি মূলত একটি মরুময় অঞ্চল।  valid\n",
       "...              ...                                                ...    ...\n",
       "963545  fffa8ced44f1   এই কাজের জন্য বিশেষ পারদর্শিতা থাকা শিল্পী থাকে।  valid\n",
       "963586  fffd69cdd76c  আবদুল লতিফ আঞ্জুমানের সঙ্গে প্রত্যক্ষভাবে জড়ি...  valid\n",
       "963589  fffd9ff269bc  পত্রের বিষয়বস্তু হলো \"যান্ত্রিক গণনার মডুলেশন...  valid\n",
       "963593  fffdb13febaf  তবে, ব্যান্ডটির অফিসিয়াল ফেসবুক পাতায়, তাকে ...  valid\n",
       "963599  fffdddf07b4b    চাঁদপুর জেলার উন্নয়নে তার ব্যাপক অবদান রয়েছে।  valid\n",
       "\n",
       "[29588 rows x 3 columns]"
      ]
     },
     "metadata": {},
     "output_type": "display_data"
    },
    {
     "name": "stdout",
     "output_type": "stream",
     "text": [
      "The len of valid data is 29588\n"
     ]
    }
   ],
   "source": [
    "print(\"The unique values of 'df[split]' are :\")\n",
    "display(df['split'].unique())\n",
    "print(\"*-\"*50)\n",
    "\n",
    "train_df = df[df['split'] == 'train']\n",
    "valid_df = df[df['split'] == 'valid']\n",
    "print(\"The *train* data is the following:\")\n",
    "display(train_df)\n",
    "print(f\"The len of train data is {len(train_df)}\")\n",
    "print(\"*-\"*50)\n",
    "print(\"The *valid* data is the following:\")\n",
    "display(valid_df)\n",
    "print(f\"The len of valid data is {len(valid_df)}\")"
   ]
  },
  {
   "cell_type": "code",
   "execution_count": 8,
   "metadata": {},
   "outputs": [],
   "source": [
    "class BengaliASRDataset(Dataset):\n",
    "    def __init__(self, df: pd.DataFrame):\n",
    "        self.df = df\n",
    "        self.paths = df['id'].values\n",
    "        self.sentences = df['sentence'].str.split()\n",
    "        self.sentences = df['sentence'].values\n",
    "        self.resampler = tat.Resample(32000, SAMPLE_RATE)\n",
    "    \n",
    "    def __len__(self):\n",
    "        return len(self.df)\n",
    "    \n",
    "    def __getitem__(self, index):\n",
    "        aud_path = f'/home/moonlab/datasets/bengali/train_mp3s/{self.paths[index]}.mp3'\n",
    "        waveform, sr = librosa.load(aud_path, sr=SAMPLE_RATE)\n",
    "        waveform = torch.from_numpy(waveform)\n",
    "        waveform = self.resampler(waveform)\n",
    "        \n",
    "        batch = dict()\n",
    "        y = processor(waveform.reshape(-1), sampling_rate=SAMPLE_RATE).input_values[0]\n",
    "        batch[\"input_values\"] = y\n",
    "        with processor.as_target_processor():\n",
    "            batch[\"labels\"] = processor(self.sentences[index]).input_ids\n",
    "        \n",
    "        return batch"
   ]
  },
  {
   "cell_type": "code",
   "execution_count": 9,
   "metadata": {},
   "outputs": [
    {
     "name": "stdout",
     "output_type": "stream",
     "text": [
      "সেই\n",
      "পাতায়\n",
      "লেখা\n",
      "আছে:\n",
      "শ্রীমতী\n",
      "হেমনলিনীর\n",
      "প্রতি\n",
      "অক্ষয়শ্রদ্ধার\n",
      "উপহার।\n"
     ]
    }
   ],
   "source": [
    "text = \"সেই পাতায় লেখা আছে: শ্রীমতী হেমনলিনীর প্রতি অক্ষয়শ্রদ্ধার উপহার।\"\n",
    "\n",
    "words = text.split()\n",
    "\n",
    "bnorm = Normalizer()\n",
    "\n",
    "for word in words:\n",
    "    result = bnorm(word)\n",
    "    print(result['normalized'])"
   ]
  },
  {
   "cell_type": "code",
   "execution_count": 10,
   "metadata": {},
   "outputs": [],
   "source": [
    "train_dataset = BengaliASRDataset(train_df)\n",
    "valid_dataset = BengaliASRDataset(valid_df)"
   ]
  },
  {
   "cell_type": "code",
   "execution_count": 11,
   "metadata": {},
   "outputs": [],
   "source": [
    "@dataclass\n",
    "class DataCollatorCTCWithPadding:\n",
    "    processor: Wav2Vec2Processor\n",
    "    padding: Union[bool, str] = True\n",
    "    max_length: Optional[int] = None\n",
    "    max_length_labels: Optional[int] = None\n",
    "    pad_to_multiple_of: Optional[int] = None\n",
    "    pad_to_multiple_of_labels: Optional[int] = None\n",
    "\n",
    "    def __call__(self, features: List[Dict[str, Union[List[int], torch.Tensor]]]) -> Dict[str, torch.Tensor]:\n",
    "        # split inputs and labels since they have to be of different lenghts and need\n",
    "        # different padding methods\n",
    "        input_features = [{\"input_values\": feature[\"input_values\"]} for feature in features]\n",
    "        label_features = [{\"input_ids\": feature[\"labels\"]} for feature in features]\n",
    "\n",
    "        batch = self.processor.pad(\n",
    "            input_features,\n",
    "            padding=self.padding,\n",
    "            max_length=self.max_length,\n",
    "            pad_to_multiple_of=self.pad_to_multiple_of,\n",
    "            return_tensors=\"pt\",\n",
    "        )\n",
    "        with self.processor.as_target_processor():\n",
    "            labels_batch = self.processor.pad(\n",
    "                label_features,\n",
    "                padding=self.padding,\n",
    "                max_length=self.max_length_labels,\n",
    "                pad_to_multiple_of=self.pad_to_multiple_of_labels,\n",
    "                return_tensors=\"pt\",\n",
    "            )\n",
    "\n",
    "        # replace padding with -100 to ignore loss correctly\n",
    "        labels = labels_batch[\"input_ids\"].masked_fill(labels_batch.attention_mask.ne(1), -100)\n",
    "\n",
    "        batch[\"labels\"] = labels\n",
    "\n",
    "        return batch"
   ]
  },
  {
   "cell_type": "code",
   "execution_count": 12,
   "metadata": {},
   "outputs": [],
   "source": [
    "data_collator = DataCollatorCTCWithPadding(processor=processor, padding=True)"
   ]
  },
  {
   "cell_type": "code",
   "execution_count": 13,
   "metadata": {},
   "outputs": [],
   "source": [
    "def compute_metrics(pred):\n",
    "    pred_logits = pred.predictions\n",
    "    pred_ids = np.argmax(pred_logits, axis=-1)\n",
    "\n",
    "    pred.label_ids[pred.label_ids == -100] = processor.tokenizer.pad_token_id\n",
    "\n",
    "    pred_str = processor.batch_decode(pred_ids)\n",
    "    # we do not want to group tokens when computing the metrics\n",
    "    label_str = processor.batch_decode(pred.label_ids, group_tokens=False)\n",
    "\n",
    "    # wer = wer_metric.compute(predictions=pred_str, references=label_str)\n",
    "    wer = jiwer.wer(label_str, pred_str)\n",
    "\n",
    "    return {\"wer\": wer}"
   ]
  },
  {
   "cell_type": "code",
   "execution_count": 14,
   "metadata": {},
   "outputs": [
    {
     "name": "stderr",
     "output_type": "stream",
     "text": [
      "Failed to detect the name of this notebook, you can set it manually with the WANDB_NOTEBOOK_NAME environment variable to enable code saving.\n",
      "\u001b[34m\u001b[1mwandb\u001b[0m: Currently logged in as: \u001b[33mslam_louis\u001b[0m (\u001b[33mbengali_asr\u001b[0m). Use \u001b[1m`wandb login --relogin`\u001b[0m to force relogin\n"
     ]
    },
    {
     "data": {
      "text/html": [
       "Tracking run with wandb version 0.15.11"
      ],
      "text/plain": [
       "<IPython.core.display.HTML object>"
      ]
     },
     "metadata": {},
     "output_type": "display_data"
    },
    {
     "data": {
      "text/html": [
       "Run data is saved locally in <code>/home/moonlab/bengali_asr/wandb/run-20230928_033851-jk2kn0b7</code>"
      ],
      "text/plain": [
       "<IPython.core.display.HTML object>"
      ]
     },
     "metadata": {},
     "output_type": "display_data"
    },
    {
     "data": {
      "text/html": [
       "Syncing run <strong><a href='https://wandb.ai/bengali_asr/benga.ai/runs/jk2kn0b7' target=\"_blank\">celestial-tree-7</a></strong> to <a href='https://wandb.ai/bengali_asr/benga.ai' target=\"_blank\">Weights & Biases</a> (<a href='https://wandb.me/run' target=\"_blank\">docs</a>)<br/>"
      ],
      "text/plain": [
       "<IPython.core.display.HTML object>"
      ]
     },
     "metadata": {},
     "output_type": "display_data"
    },
    {
     "data": {
      "text/html": [
       " View project at <a href='https://wandb.ai/bengali_asr/benga.ai' target=\"_blank\">https://wandb.ai/bengali_asr/benga.ai</a>"
      ],
      "text/plain": [
       "<IPython.core.display.HTML object>"
      ]
     },
     "metadata": {},
     "output_type": "display_data"
    },
    {
     "data": {
      "text/html": [
       " View run at <a href='https://wandb.ai/bengali_asr/benga.ai/runs/jk2kn0b7' target=\"_blank\">https://wandb.ai/bengali_asr/benga.ai/runs/jk2kn0b7</a>"
      ],
      "text/plain": [
       "<IPython.core.display.HTML object>"
      ]
     },
     "metadata": {},
     "output_type": "display_data"
    },
    {
     "data": {
      "text/html": [
       "<button onClick=\"this.nextSibling.style.display='block';this.style.display='none';\">Display W&B run</button><iframe src='https://wandb.ai/bengali_asr/benga.ai/runs/jk2kn0b7?jupyter=true' style='border:none;width:100%;height:420px;display:none;'></iframe>"
      ],
      "text/plain": [
       "<wandb.sdk.wandb_run.Run at 0x7f1387ef0f10>"
      ]
     },
     "execution_count": 14,
     "metadata": {},
     "output_type": "execute_result"
    }
   ],
   "source": [
    "wandb.init(project=\"benga.ai\", entity=\"bengali_asr\")"
   ]
  },
  {
   "cell_type": "code",
   "execution_count": 15,
   "metadata": {},
   "outputs": [],
   "source": [
    "model = Wav2Vec2ForCTC.from_pretrained(\n",
    "    MODEL_PATH,\n",
    "    attention_dropout=0.1,\n",
    "    hidden_dropout=0.1,\n",
    "    mask_time_prob=0.05,\n",
    "    layerdrop=0.1,\n",
    "    ctc_loss_reduction=\"mean\",\n",
    "    pad_token_id=processor.tokenizer.pad_token_id,\n",
    "    vocab_size=len(processor.tokenizer),\n",
    "    ctc_zero_infinity= True,\n",
    "    diversity_loss_weight=100\n",
    ")"
   ]
  },
  {
   "cell_type": "code",
   "execution_count": 16,
   "metadata": {},
   "outputs": [],
   "source": [
    "training_args = TrainingArguments(\n",
    "    output_dir=OUTPUT_DIR,\n",
    "    overwrite_output_dir=True,\n",
    "    group_by_length=False,\n",
    "    lr_scheduler_type='cosine',\n",
    "    weight_decay=0.01,\n",
    "    per_device_train_batch_size=256,\n",
    "    per_device_eval_batch_size=16,\n",
    "    gradient_accumulation_steps=1,\n",
    "    evaluation_strategy=\"epoch\",\n",
    "    save_strategy=\"epoch\",\n",
    "    num_train_epochs=5,\n",
    "    fp16=True,\n",
    "    save_steps=20,\n",
    "    eval_steps=20,\n",
    "    logging_steps=20,\n",
    "    learning_rate=2e-5,\n",
    "    warmup_steps=600,\n",
    "    save_total_limit=1,\n",
    "    load_best_model_at_end=True,\n",
    "    metric_for_best_model=\"wer\",\n",
    "    greater_is_better=False,\n",
    "    prediction_loss_only=False,\n",
    "    auto_find_batch_size=True,\n",
    "    report_to=\"wandb\"\n",
    ")"
   ]
  },
  {
   "cell_type": "code",
   "execution_count": 17,
   "metadata": {},
   "outputs": [],
   "source": [
    "trainer = Trainer(\n",
    "    model=model,\n",
    "    data_collator = data_collator,\n",
    "    args=training_args,\n",
    "    train_dataset=train_dataset,\n",
    "    eval_dataset=valid_dataset,\n",
    "    compute_metrics=compute_metrics,\n",
    "    tokenizer=processor.feature_extractor\n",
    ")"
   ]
  },
  {
   "cell_type": "code",
   "execution_count": 18,
   "metadata": {},
   "outputs": [
    {
     "data": {
      "text/html": [
       "\n",
       "    <div>\n",
       "      \n",
       "      <progress value='7' max='145945' style='width:300px; height:20px; vertical-align: middle;'></progress>\n",
       "      [     7/145945 00:15 < 127:55:16, 0.32 it/s, Epoch 0.00/5]\n",
       "    </div>\n",
       "    <table border=\"1\" class=\"dataframe\">\n",
       "  <thead>\n",
       " <tr style=\"text-align: left;\">\n",
       "      <th>Epoch</th>\n",
       "      <th>Training Loss</th>\n",
       "      <th>Validation Loss</th>\n",
       "    </tr>\n",
       "  </thead>\n",
       "  <tbody>\n",
       "  </tbody>\n",
       "</table><p>"
      ],
      "text/plain": [
       "<IPython.core.display.HTML object>"
      ]
     },
     "metadata": {},
     "output_type": "display_data"
    },
    {
     "data": {
      "text/html": [
       "\n",
       "    <div>\n",
       "      \n",
       "      <progress value='1310' max='291890' style='width:300px; height:20px; vertical-align: middle;'></progress>\n",
       "      [  1310/291890 08:46 < 32:29:40, 2.48 it/s, Epoch 0.02/5]\n",
       "    </div>\n",
       "    <table border=\"1\" class=\"dataframe\">\n",
       "  <thead>\n",
       " <tr style=\"text-align: left;\">\n",
       "      <th>Epoch</th>\n",
       "      <th>Training Loss</th>\n",
       "      <th>Validation Loss</th>\n",
       "    </tr>\n",
       "  </thead>\n",
       "  <tbody>\n",
       "  </tbody>\n",
       "</table><p>"
      ],
      "text/plain": [
       "<IPython.core.display.HTML object>"
      ]
     },
     "metadata": {},
     "output_type": "display_data"
    }
   ],
   "source": [
    "trainer.train()\n",
    "wandb.finish()\n",
    "trainer.save_model(output_dir=OUTPUT_DIR)"
   ]
  },
  {
   "cell_type": "code",
   "execution_count": null,
   "metadata": {},
   "outputs": [],
   "source": []
  }
 ],
 "metadata": {
  "kernelspec": {
   "display_name": "bangla",
   "language": "python",
   "name": "python3"
  },
  "language_info": {
   "codemirror_mode": {
    "name": "ipython",
    "version": 3
   },
   "file_extension": ".py",
   "mimetype": "text/x-python",
   "name": "python",
   "nbconvert_exporter": "python",
   "pygments_lexer": "ipython3",
   "version": "3.11.5"
  },
  "orig_nbformat": 4
 },
 "nbformat": 4,
 "nbformat_minor": 2
}
